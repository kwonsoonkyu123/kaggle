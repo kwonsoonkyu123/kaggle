{
 "cells": [
  {
   "cell_type": "code",
   "execution_count": 136,
   "metadata": {},
   "outputs": [],
   "source": [
    "import pandas as pd\n",
    "import numpy as np\n",
    "import matplotlib.pyplot as plt\n",
    "import matplotlib as mpl\n",
    "\n",
    "%matplotlib inline"
   ]
  },
  {
   "cell_type": "code",
   "execution_count": 137,
   "metadata": {},
   "outputs": [],
   "source": [
    "train_dummy = pd.read_csv(\"datasets/train_dummy_EDA.csv\")\n",
    "train = pd.read_csv(\"datasets/train_EDA.csv\")\n",
    "train_log = pd.read_csv(\"datasets/train_log_EDA.csv\")\n",
    "test_dummy = pd.read_csv(\"datasets/test_dummy_EDA.csv\")"
   ]
  },
  {
   "cell_type": "code",
   "execution_count": 138,
   "metadata": {},
   "outputs": [],
   "source": [
    "train_dummy.loc[:,\"count\"] = np.log(train_dummy.loc[:,\"count\"])\n",
    "\n",
    "train_Y = train_dummy.loc[:,\"count\"]\n",
    "train_X = train_dummy.loc[:, train_dummy.columns != \"count\"]"
   ]
  },
  {
   "cell_type": "code",
   "execution_count": 198,
   "metadata": {},
   "outputs": [
    {
     "data": {
      "text/plain": [
       "LinearRegression(copy_X=True, fit_intercept=True, n_jobs=1, normalize=False)"
      ]
     },
     "execution_count": 198,
     "metadata": {},
     "output_type": "execute_result"
    }
   ],
   "source": [
    "from sklearn.linear_model import LinearRegression\n",
    "\n",
    "lrm = LinearRegression()\n",
    "lrm.fit(train_X, train_Y)"
   ]
  },
  {
   "cell_type": "code",
   "execution_count": 199,
   "metadata": {},
   "outputs": [],
   "source": [
    "from sklearn.metrics import mean_squared_error\n",
    "\n",
    "pred = lrm.predict(train_X)\n",
    "pred = np.exp(pred)\n",
    "lrm_rmse = mean_squared_error(pred, np.exp(train_Y))\n",
    "lrm_rmse = np.sqrt(lrm_rmse)"
   ]
  },
  {
   "cell_type": "code",
   "execution_count": 262,
   "metadata": {
    "scrolled": true
   },
   "outputs": [
    {
     "data": {
      "text/plain": [
       "94.49885275308024"
      ]
     },
     "execution_count": 262,
     "metadata": {},
     "output_type": "execute_result"
    }
   ],
   "source": [
    "lrm_rmse"
   ]
  },
  {
   "cell_type": "code",
   "execution_count": 263,
   "metadata": {},
   "outputs": [
    {
     "data": {
      "text/plain": [
       "array([ 2.73050926e-02, -3.10274932e-03, -5.73083007e-03, -7.09461689e+10,\n",
       "       -3.25876079e+10, -4.39536283e+10, -2.20905787e+10,  2.22654403e+09,\n",
       "        2.22654403e+09,  2.22654403e+09,  2.22654403e+09,  2.17313828e+09,\n",
       "        2.17313828e+09,  2.88977868e+10,  2.88977868e+10,  2.88977868e+10,\n",
       "       -9.46077416e+09, -9.46077416e+09, -9.46077416e+09,  1.90524625e+09,\n",
       "        1.90524625e+09,  1.90524625e+09, -1.99578034e+10, -1.99578034e+10,\n",
       "       -1.99578034e+10, -6.46080409e+07, -6.46080416e+07, -6.46080421e+07,\n",
       "       -6.46080427e+07, -6.46080430e+07, -6.46080419e+07, -6.46080407e+07,\n",
       "       -6.46080397e+07, -6.46080390e+07, -6.46080393e+07, -6.46080397e+07,\n",
       "       -6.46080396e+07, -6.46080394e+07, -6.46080394e+07, -6.46080395e+07,\n",
       "       -6.46080394e+07, -6.46080392e+07, -6.46080387e+07, -6.46080388e+07,\n",
       "       -6.46080391e+07, -6.46080394e+07, -6.46080397e+07, -6.46080399e+07,\n",
       "       -6.46080403e+07])"
      ]
     },
     "execution_count": 263,
     "metadata": {},
     "output_type": "execute_result"
    }
   ],
   "source": [
    "lrm.coef_ # categorical의 coefficient가 다 10000이 넘음,,,"
   ]
  },
  {
   "cell_type": "code",
   "execution_count": 251,
   "metadata": {},
   "outputs": [],
   "source": [
    "subs = lrm.predict(test_dummy)"
   ]
  },
  {
   "cell_type": "code",
   "execution_count": 252,
   "metadata": {},
   "outputs": [],
   "source": [
    "mask = subs > 10000"
   ]
  },
  {
   "cell_type": "code",
   "execution_count": 253,
   "metadata": {},
   "outputs": [],
   "source": [
    "subs[mask] = 7"
   ]
  },
  {
   "cell_type": "code",
   "execution_count": 254,
   "metadata": {},
   "outputs": [],
   "source": [
    "submissions = pd.read_csv(\"datasets/sampleSubmission.csv\")"
   ]
  },
  {
   "cell_type": "code",
   "execution_count": 255,
   "metadata": {},
   "outputs": [],
   "source": [
    "submissions[\"count\"] = subs"
   ]
  },
  {
   "cell_type": "code",
   "execution_count": 256,
   "metadata": {},
   "outputs": [],
   "source": [
    "submissions[\"count\"] = np.exp(submissions[\"count\"])"
   ]
  },
  {
   "cell_type": "code",
   "execution_count": 257,
   "metadata": {},
   "outputs": [],
   "source": [
    "submissions.to_csv(\"datasets/subs.csv\", index=False)"
   ]
  },
  {
   "cell_type": "code",
   "execution_count": 261,
   "metadata": {},
   "outputs": [
    {
     "data": {
      "text/plain": [
       "0"
      ]
     },
     "execution_count": 261,
     "metadata": {},
     "output_type": "execute_result"
    }
   ],
   "source": [
    "np.sum(submissions[\"count\"] > 5000)"
   ]
  }
 ],
 "metadata": {
  "kernelspec": {
   "display_name": "Python 3",
   "language": "python",
   "name": "python3"
  },
  "language_info": {
   "codemirror_mode": {
    "name": "ipython",
    "version": 3
   },
   "file_extension": ".py",
   "mimetype": "text/x-python",
   "name": "python",
   "nbconvert_exporter": "python",
   "pygments_lexer": "ipython3",
   "version": "3.5.5"
  }
 },
 "nbformat": 4,
 "nbformat_minor": 2
}
